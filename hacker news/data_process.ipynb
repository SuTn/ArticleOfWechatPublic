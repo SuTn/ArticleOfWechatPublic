{
 "cells": [
  {
   "cell_type": "code",
   "execution_count": 2,
   "metadata": {},
   "outputs": [],
   "source": [
    "import pandas as pd \n",
    "import numpy as np"
   ]
  },
  {
   "cell_type": "code",
   "execution_count": 4,
   "metadata": {},
   "outputs": [
    {
     "data": {
      "text/html": [
       "<div>\n",
       "<style scoped>\n",
       "    .dataframe tbody tr th:only-of-type {\n",
       "        vertical-align: middle;\n",
       "    }\n",
       "\n",
       "    .dataframe tbody tr th {\n",
       "        vertical-align: top;\n",
       "    }\n",
       "\n",
       "    .dataframe thead th {\n",
       "        text-align: right;\n",
       "    }\n",
       "</style>\n",
       "<table border=\"1\" class=\"dataframe\">\n",
       "  <thead>\n",
       "    <tr style=\"text-align: right;\">\n",
       "      <th></th>\n",
       "      <th>by</th>\n",
       "      <th>descendants</th>\n",
       "      <th>id</th>\n",
       "      <th>kids</th>\n",
       "      <th>score</th>\n",
       "      <th>time</th>\n",
       "      <th>title</th>\n",
       "      <th>type</th>\n",
       "      <th>url</th>\n",
       "      <th>text</th>\n",
       "    </tr>\n",
       "  </thead>\n",
       "  <tbody>\n",
       "    <tr>\n",
       "      <th>0</th>\n",
       "      <td>1915cb1f</td>\n",
       "      <td>732.0</td>\n",
       "      <td>24836520</td>\n",
       "      <td>[24840286, 24837750, 24841440, 24840576, 24841...</td>\n",
       "      <td>1337</td>\n",
       "      <td>1603197147</td>\n",
       "      <td>U.S. Accuses Google of Illegally Protecting Mo...</td>\n",
       "      <td>story</td>\n",
       "      <td>https://www.nytimes.com/2020/10/20/technology/...</td>\n",
       "      <td>NaN</td>\n",
       "    </tr>\n",
       "    <tr>\n",
       "      <th>1</th>\n",
       "      <td>thunderbong</td>\n",
       "      <td>6.0</td>\n",
       "      <td>24843643</td>\n",
       "      <td>[24844534, 24844086, 24844345]</td>\n",
       "      <td>85</td>\n",
       "      <td>1603239127</td>\n",
       "      <td>SQLite now allows multiple recursive SELECT st...</td>\n",
       "      <td>story</td>\n",
       "      <td>https://fossil-scm.org/forum/forumpost/bacf8cf88c</td>\n",
       "      <td>NaN</td>\n",
       "    </tr>\n",
       "    <tr>\n",
       "      <th>2</th>\n",
       "      <td>gmays</td>\n",
       "      <td>16.0</td>\n",
       "      <td>24842894</td>\n",
       "      <td>[24843548, 24844293, 24843534, 24843452]</td>\n",
       "      <td>97</td>\n",
       "      <td>1603232251</td>\n",
       "      <td>Study reveals restoration of retinal and visua...</td>\n",
       "      <td>story</td>\n",
       "      <td>https://www.som.uci.edu/news_releases/Retinal-...</td>\n",
       "      <td>NaN</td>\n",
       "    </tr>\n",
       "    <tr>\n",
       "      <th>3</th>\n",
       "      <td>ingve</td>\n",
       "      <td>20.0</td>\n",
       "      <td>24834965</td>\n",
       "      <td>[24844153, 24844417, 24844512, 24844131, 24844...</td>\n",
       "      <td>59</td>\n",
       "      <td>1603181487</td>\n",
       "      <td>Discipline Doesn’t Scale</td>\n",
       "      <td>story</td>\n",
       "      <td>https://www.sicpers.info/2020/10/discipline-do...</td>\n",
       "      <td>NaN</td>\n",
       "    </tr>\n",
       "    <tr>\n",
       "      <th>4</th>\n",
       "      <td>doppp</td>\n",
       "      <td>15.0</td>\n",
       "      <td>24844252</td>\n",
       "      <td>[24844487, 24844274, 24844507, 24844298, 24844...</td>\n",
       "      <td>16</td>\n",
       "      <td>1603247055</td>\n",
       "      <td>Mozilla Reaction to U.S. vs. Google</td>\n",
       "      <td>story</td>\n",
       "      <td>https://blog.mozilla.org/blog/2020/10/20/mozil...</td>\n",
       "      <td>NaN</td>\n",
       "    </tr>\n",
       "  </tbody>\n",
       "</table>\n",
       "</div>"
      ],
      "text/plain": [
       "            by  descendants        id  \\\n",
       "0     1915cb1f        732.0  24836520   \n",
       "1  thunderbong          6.0  24843643   \n",
       "2        gmays         16.0  24842894   \n",
       "3        ingve         20.0  24834965   \n",
       "4        doppp         15.0  24844252   \n",
       "\n",
       "                                                kids  score        time  \\\n",
       "0  [24840286, 24837750, 24841440, 24840576, 24841...   1337  1603197147   \n",
       "1                     [24844534, 24844086, 24844345]     85  1603239127   \n",
       "2           [24843548, 24844293, 24843534, 24843452]     97  1603232251   \n",
       "3  [24844153, 24844417, 24844512, 24844131, 24844...     59  1603181487   \n",
       "4  [24844487, 24844274, 24844507, 24844298, 24844...     16  1603247055   \n",
       "\n",
       "                                               title   type  \\\n",
       "0  U.S. Accuses Google of Illegally Protecting Mo...  story   \n",
       "1  SQLite now allows multiple recursive SELECT st...  story   \n",
       "2  Study reveals restoration of retinal and visua...  story   \n",
       "3                           Discipline Doesn’t Scale  story   \n",
       "4                Mozilla Reaction to U.S. vs. Google  story   \n",
       "\n",
       "                                                 url text  \n",
       "0  https://www.nytimes.com/2020/10/20/technology/...  NaN  \n",
       "1  https://fossil-scm.org/forum/forumpost/bacf8cf88c  NaN  \n",
       "2  https://www.som.uci.edu/news_releases/Retinal-...  NaN  \n",
       "3  https://www.sicpers.info/2020/10/discipline-do...  NaN  \n",
       "4  https://blog.mozilla.org/blog/2020/10/20/mozil...  NaN  "
      ]
     },
     "execution_count": 4,
     "metadata": {},
     "output_type": "execute_result"
    }
   ],
   "source": [
    "csv_data = pd.read_csv(\"./data.csv\",index_col=0)\n",
    "csv_data.head()"
   ]
  },
  {
   "cell_type": "code",
   "execution_count": 5,
   "metadata": {},
   "outputs": [
    {
     "name": "stdout",
     "output_type": "stream",
     "text": [
      "449\n"
     ]
    }
   ],
   "source": [
    "print(len(csv_data))"
   ]
  },
  {
   "cell_type": "code",
   "execution_count": 12,
   "metadata": {},
   "outputs": [],
   "source": [
    "type_l = csv_data[\"type\"].value_counts()"
   ]
  },
  {
   "cell_type": "code",
   "execution_count": 15,
   "metadata": {},
   "outputs": [
    {
     "data": {
      "text/plain": [
       "story    448\n",
       "job        1\n",
       "Name: type, dtype: int64"
      ]
     },
     "execution_count": 15,
     "metadata": {},
     "output_type": "execute_result"
    }
   ],
   "source": [
    "type_l"
   ]
  },
  {
   "cell_type": "code",
   "execution_count": 16,
   "metadata": {},
   "outputs": [],
   "source": [
    "import matplotlib as mpl\n",
    "from matplotlib import pyplot as plt"
   ]
  },
  {
   "cell_type": "code",
   "execution_count": 17,
   "metadata": {},
   "outputs": [
    {
     "data": {
      "image/png": "[encoded data removed]",
      "text/plain": [
       "<Figure size 432x432 with 1 Axes>"
      ]
     },
     "metadata": {},
     "output_type": "display_data"
    }
   ],
   "source": [
    "type_l.plot.pie(figsize=(6, 6), labels=[\"story\", \"job\"], autopct=\"%0.2f\", fontsize=15)\n",
    "plt.legend() \n",
    "plt.tight_layout()\n",
    "plt.show()"
   ]
  },
  {
   "cell_type": "code",
   "execution_count": 22,
   "metadata": {},
   "outputs": [
    {
     "name": "stdout",
     "output_type": "stream",
     "text": [
      "todsacerdoti      8\n",
      "rbanffy           7\n",
      "bookofjoe         7\n",
      "AndrewBissell     6\n",
      "Reedx             5\n",
      "                 ..\n",
      "k00b              1\n",
      "uncertainquark    1\n",
      "mnadkvlb          1\n",
      "meagher           1\n",
      "ycombonator       1\n",
      "Name: by, Length: 367, dtype: int64\n"
     ]
    }
   ],
   "source": [
    "by = csv_data[\"by\"].value_counts()\n",
    "print(by)"
   ]
  },
  {
   "cell_type": "code",
   "execution_count": 25,
   "metadata": {},
   "outputs": [
    {
     "data": {
      "text/plain": [
       "<AxesSubplot:>"
      ]
     },
     "execution_count": 25,
     "metadata": {},
     "output_type": "execute_result"
    },
    {
     "data": {
      "image/png": "[encoded data removed]",
      "text/plain": [
       "<Figure size 432x288 with 1 Axes>"
      ]
     },
     "metadata": {
      "needs_background": "light"
     },
     "output_type": "display_data"
    }
   ],
   "source": [
    "by[:10].plot.bar(stacked=True)"
   ]
  }
 ],
 "metadata": {
  "kernelspec": {
   "display_name": "dl",
   "language": "python",
   "name": "dl"
  },
  "language_info": {
   "codemirror_mode": {
    "name": "ipython",
    "version": 3
   },
   "file_extension": ".py",
   "mimetype": "text/x-python",
   "name": "python",
   "nbconvert_exporter": "python",
   "pygments_lexer": "ipython3",
   "version": "3.7.3"
  }
 },
 "nbformat": 4,
 "nbformat_minor": 2
}
